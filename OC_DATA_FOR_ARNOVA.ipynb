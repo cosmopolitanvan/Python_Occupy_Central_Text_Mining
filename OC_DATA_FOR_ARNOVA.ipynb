{
 "cells": [
  {
   "cell_type": "code",
   "execution_count": 8,
   "metadata": {
    "collapsed": false
   },
   "outputs": [
    {
     "name": "stdout",
     "output_type": "stream",
     "text": [
      "/Users/weiaiwaynexu/Dropbox/Acer Laptop Sync/Data Science/OC\n",
      "the earliest date: 8635   2014-09-01\n",
      "Name: published_date, dtype: datetime64[ns] the latest date: 34084   2014-12-24 23:00:01\n",
      "Name: published_date, dtype: datetime64[ns]\n",
      "There are 23884 OFFICIAL posts sent by anti-establishment civil groups\n",
      "There are 6477 OFFICIAL posts sent by pro-establishment civil groups\n"
     ]
    }
   ],
   "source": [
    "import os\n",
    "import glob\n",
    "from glob import glob as gg\n",
    "\n",
    "from collections import defaultdict\n",
    "\n",
    "import re\n",
    "import sqlite3\n",
    "\n",
    "import pandas as pd\n",
    "from pandas import DataFrame\n",
    "from pandas import Series\n",
    "\n",
    "import numpy as np\n",
    "from numpy import random, asarray, linspace, corrcoef\n",
    "from datetime import datetime, date, time\n",
    "\n",
    "import jieba\n",
    "import jieba.posseg as pseg\n",
    "import jieba.analyse\n",
    "from optparse import OptionParser\n",
    "from __future__ import print_function, unicode_literals\n",
    "import sys\n",
    "\n",
    "get_ipython().magic(u'pwd')\n",
    "get_ipython().magic(u'cd \"/Users/weiaiwaynexu/Dropbox/Acer Laptop Sync/Data Science/OC\"')\n",
    "\n",
    "con = sqlite3.connect(\"OccupyHK.sqlite\")\n",
    "cur = con.cursor()\n",
    "df = pd.read_sql_query(\"SELECT * FROM Posts\", con)\n",
    "con.close()\n",
    "df['published_date'] = pd.to_datetime(df['published_date'])\n",
    "df = df.sort_values(by='published_date')\n",
    "df['share_count'] = pd.to_numeric(df['share_count'])\n",
    "df = df.fillna(0)\n",
    "df = df[(df['published_date'] >= '2014-09-01') & (df['published_date'] <= \"2014-12-30\")]\n",
    "print (\"the earliest date:\", df['published_date'].head(1), \"the latest date:\", df['published_date'].tail(1))\n",
    "\n",
    "yellow_official = df.loc[df['org_name'].isin(['學民思潮 Scholarism',\n",
    "                                                 'Occupy Central 佔領中環', \n",
    "                                                 '讓愛與和平佔領中環 Occupy Central with Love and Peace', \n",
    "                                                 '926 平民在政總現場','佔領期間 民間智慧選輯', '傘下爸媽',\n",
    "                                                 '香港天主教正義和平委員會','Hong Kong Democracy Now', '踢爆五毛','香港警權關注組',\n",
    "                                                 '維護香港核心價值', '我係香港人', '香港人 Secrets','保衛香港自由聯盟','9反佔中 HK oic',\n",
    "                                                 'Fluid Occupiers'])] \n",
    "\n",
    "\n",
    "blue_official = df.loc[df['org_name'].isin(['幫港出聲 Silent Majority','Speak Out HK 港人講地','藍絲帶運動 The Blue Ribbon Movement','向香港警察致敬',\n",
    "                                               '反佔中苦主大聯盟','泛民不代表我','聲討黃之鋒',\n",
    "                                               '一人一Like救學生，反對中學生衝擊警察及佔中！',\n",
    "                                               '「保普選 反佔中」簽左名揮手區！',\n",
    "                                               '我要真普洱行動','我撐警務處長曾偉雄！',\n",
    "                                               '我係大學生，我愛國愛港'])] \n",
    "\n",
    "\n",
    "print (\"There are\",len(yellow_official), \"OFFICIAL posts sent by anti-establishment civil groups\")\n",
    "print (\"There are\",len(blue_official), \"OFFICIAL posts sent by pro-establishment civil groups\")"
   ]
  },
  {
   "cell_type": "code",
   "execution_count": 55,
   "metadata": {
    "collapsed": false
   },
   "outputs": [],
   "source": [
    "yellow_official_top = yellow_official[yellow_official['share_count'] >= yellow_official[\"share_count\"].quantile(0.75)]\n",
    "yellow_official_bottom = yellow_official[yellow_official['share_count'] == 0]\n",
    "blue_official_top = blue_official[blue_official['share_count'] >= blue_official[\"share_count\"].quantile(0.75)]\n",
    "blue_official_bottom = blue_official[blue_official['share_count'] == 0]"
   ]
  },
  {
   "cell_type": "code",
   "execution_count": 56,
   "metadata": {
    "collapsed": true
   },
   "outputs": [],
   "source": [
    "def convert2corpus(txt):\n",
    "    corpus = []\n",
    "    for index, i in txt.iterrows():\n",
    "        corpus.append(i['content'])\n",
    "    corpus = str(corpus)\n",
    "    corpus = corpus.replace(\"[\" and \"]\" and \"\\\\\", \" \")\n",
    "    return corpus\n",
    "\n",
    "def cnpuncttoen(corpus):\n",
    "    #corpus_new = corpus.replace(\".\", \"\")\n",
    "    corpus_new = corpus.replace(\"。\", \"*.\")\n",
    "    corpus_new = corpus_new.replace(\"？\", \"*?\")\n",
    "    corpus_new = corpus_new.replace(\",\", \"*,\")\n",
    "    corpus_new = corpus_new.replace(\"！\", \"*!\")\n",
    "    return corpus_new\n",
    "\n",
    "def sentence_split(str_centence):\n",
    "    list_ret = list()\n",
    "    for s_str in str_centence.split('*.'):\n",
    "        if '*?' in s_str:\n",
    "            list_ret.extend(s_str.split('*?'))\n",
    "        elif '*!' in s_str:\n",
    "            list_ret.extend(s_str.split('*!'))\n",
    "        else:\n",
    "            list_ret.append(s_str)\n",
    "    return list_ret\n",
    "\n",
    "yellow_official_top_corpus = sentence_split(cnpuncttoen(convert2corpus(yellow_official_top))) \n",
    "yellow_official_bottom_corpus = sentence_split(cnpuncttoen(convert2corpus(yellow_official_bottom))) \n",
    "blue_official_top_corpus = sentence_split(cnpuncttoen(convert2corpus(blue_official_top)))\n",
    "blue_official_bottom_corpus = sentence_split(cnpuncttoen(convert2corpus(blue_official_bottom))) "
   ]
  },
  {
   "cell_type": "code",
   "execution_count": 57,
   "metadata": {
    "collapsed": false
   },
   "outputs": [],
   "source": [
    "jieba.analyse.set_stop_words('cn_stopword.txt')\n",
    "\n",
    "def cracut(txt):\n",
    "    cuttxt1 = [[(j.word, j.flag) for j in jieba.posseg.cut(i)] for i in txt]\n",
    "    cracut = [[token for token, tag in sent if re.match('n|a', tag) and len(token)>1] \n",
    "                for sent in cuttxt1]\n",
    "    return cracut\n",
    "\n",
    "def cut(txt):\n",
    "    cuttxt2 = [[(j.word, j.flag) for j in jieba.posseg.cut(i)] for i in txt]\n",
    "    cut = [[token for token, tag in sent if len(token)>1] \n",
    "                for sent in cuttxt2]\n",
    "    return cut\n",
    "\n",
    "yellow_official_top_cra = cracut(yellow_official_top_corpus)\n",
    "yellow_official_bottom_cra = cracut(yellow_official_bottom_corpus)\n",
    "blue_official_top_cra = cracut(blue_official_top_corpus)\n",
    "blue_official_bottom_cra = cracut(blue_official_bottom_corpus)\n",
    "\n",
    "yellow_official_top_cut = cut(yellow_official_top_corpus)\n",
    "yellow_official_bottom_cut = cut(yellow_official_bottom_corpus)\n",
    "blue_official_top_cut = cut(blue_official_top_corpus)\n",
    "blue_official_bottom_cut = cut(blue_official_bottom_corpus)"
   ]
  },
  {
   "cell_type": "code",
   "execution_count": 58,
   "metadata": {
    "collapsed": false
   },
   "outputs": [],
   "source": [
    "import itertools as it \n",
    "import networkx as nx\n",
    "\n",
    "def semanticnetwork(inputlist):\n",
    "    edgelist = [edge for phrase in inputlist for edge in it.combinations(phrase, 2)]\n",
    "    word_network = nx.Graph(edgelist)\n",
    "    return word_network\n",
    "\n",
    "yellow_official_top_nx = semanticnetwork(yellow_official_top_cra)\n",
    "yellow_official_bottom_nx = semanticnetwork(yellow_official_bottom_cra)\n",
    "blue_official_top_nx = semanticnetwork(blue_official_top_cra)\n",
    "blue_official_bottom_nx = semanticnetwork(blue_official_bottom_cra)"
   ]
  },
  {
   "cell_type": "code",
   "execution_count": 59,
   "metadata": {
    "collapsed": false
   },
   "outputs": [],
   "source": [
    "nx.write_gpickle(yellow_official_top_nx, \"ARNOVA Analysis/yellow_official_top_nx_during.pickle\")\n",
    "nx.write_gpickle(yellow_official_bottom_nx, \"ARNOVA Analysis/yellow_official_bottom_nx_during.pickle\")\n",
    "nx.write_gpickle(blue_official_top_nx, \"ARNOVA Analysis/blue_official_top_nx_during.pickle\")\n",
    "nx.write_gpickle(blue_official_bottom_nx, \"ARNOVA Analysis/blue_official_bottom_nx_during.pickle\")\n",
    "#nx.write_graphml(xxxx, \"ARNOVA Analysis/test_cra_nx.graphml\")\n"
   ]
  },
  {
   "cell_type": "code",
   "execution_count": 60,
   "metadata": {
    "collapsed": true
   },
   "outputs": [],
   "source": [
    "yellow_official_top_bt = nx.betweenness_centrality(yellow_official_top_nx, normalized=True)\n",
    "yellow_official_top_bt = sorted(yellow_official_top_bt.items(), key=lambda x:x[1], reverse=True)\n",
    "yellow_official_top_bt = DataFrame(data=yellow_official_top_bt)\n",
    "yellow_official_top_bt.to_csv(\"ARNOVA Analysis/yellow_official_top_bt_during.csv\", sep=',')\n",
    "\n",
    "yellow_official_bottom_bt = nx.betweenness_centrality(yellow_official_bottom_nx, normalized=True)\n",
    "yellow_official_bottom_bt = sorted(yellow_official_bottom_bt.items(), key=lambda x:x[1], reverse=True)\n",
    "yellow_official_bottom_bt = DataFrame(data=yellow_official_bottom_bt)\n",
    "yellow_official_bottom_b t.to_csv(\"ARNOVA Analysis/yellow_official_bottom_bt_during.csv\", sep=',')\n",
    "\n",
    "blue_official_top_bt = nx.betweenness_centrality(blue_official_top_nx, normalized=True)\n",
    "blue_official_top_bt = sorted(blue_official_top_bt.items(), key=lambda x:x[1], reverse=True)\n",
    "blue_official_top_bt = DataFrame(data=blue_official_top_bt)\n",
    "blue_official_top_bt.to_csv(\"ARNOVA Analysis/blue_official_top_bt_during.csv\", sep=',')\n",
    "\n",
    "blue_official_bottom_bt = nx.betweenness_centrality(blue_official_bottom_nx, normalized=True)\n",
    "blue_official_bottom_bt = sorted(blue_official_bottom_bt.items(), key=lambda x:x[1], reverse=True)\n",
    "blue_official_bottom_bt = DataFrame(data=blue_official_bottom_bt)\n",
    "blue_official_bottom_bt.to_csv(\"ARNOVA Analysis/blue_official_bottom _bt_during.csv\", sep=',')"
   ]
  },
  {
   "cell_type": "code",
   "execution_count": 86,
   "metadata": {
    "collapsed": false
   },
   "outputs": [],
   "source": [
    "import gensim\n",
    "from gensim import corpora\n",
    "\n",
    "dictionary = corpora.Dictionary(yellow_official_top_cra)\n",
    "dictionary.save('ARNOVA Analysis/yellow_official_top_cra.dict') \n",
    "yellow_official_top_cra_TM = [dictionary.doc2bow(doc) for doc in yellow_official_top_cra]\n",
    "corpora.MmCorpus.serialize('ARNOVA Analysis/yellow_official_top_cra_during.mm', yellow_official_top_cra_TM)\n",
    "\n",
    "dictionary = corpora.Dictionary(yellow_official_bottom_cra)\n",
    "dictionary.save('ARNOVA Analysis/yellow_official_bottom_cra.dict') \n",
    "yellow_official_bottom_cra_TM = [dictionary.doc2bow(doc) for doc in yellow_official_bottom_cra]\n",
    "corpora.MmCorpus.serialize('ARNOVA Analysis/yellow_official_bottom_cra_during.mm', yellow_official_bottom_cra_TM)\n",
    "\n",
    "dictionary = corpora.Dictionary(blue_official_top_cra)\n",
    "dictionary.save('ARNOVA Analysis/blue_official_top_cra.dict') \n",
    "blue_official_top_cra_TM = [dictionary.doc2bow(doc) for doc in blue_official_top_cra]\n",
    "corpora.MmCorpus.serialize('ARNOVA Analysis/blue_official_top_cra_during.mm', blue_official_top_cra_TM)\n",
    "\n",
    "dictionary = corpora.Dictionary(blue_official_bottom_cra)\n",
    "dictionary.save('ARNOVA Analysis/blue_official_bottom_cra.dict') \n",
    "blue_official_bottom_cra_TM = [dictionary.doc2bow(doc) for doc in blue_official_bottom_cra]\n",
    "corpora.MmCorpus.serialize('ARNOVA Analysis/blue_official_bottom_cra_during.mm', blue_official_bottom_cra_TM)\n"
   ]
  },
  {
   "cell_type": "code",
   "execution_count": 95,
   "metadata": {
    "collapsed": true
   },
   "outputs": [],
   "source": [
    "dictionary = corpora.Dictionary(yellow_official_top_cut)\n",
    "dictionary.save('ARNOVA Analysis/yellow_official_top_cut.dict') \n",
    "yellow_official_top_cut_TM = [dictionary.doc2bow(doc) for doc in yellow_official_top_cut]\n",
    "corpora.MmCorpus.serialize('ARNOVA Analysis/yellow_official_top_cut_during.mm', yellow_official_top_cut_TM)\n",
    "\n",
    "dictionary = corpora.Dictionary(yellow_official_bottom_cut)\n",
    "dictionary.save('ARNOVA Analysis/yellow_official_bottom_cut.dict') \n",
    "yellow_official_bottom_cut_TM = [dictionary.doc2bow(doc) for doc in yellow_official_bottom_cut]\n",
    "corpora.MmCorpus.serialize('ARNOVA Analysis/yellow_official_bottom_cut_during.mm', yellow_official_bottom_cut_TM)\n",
    "\n",
    "dictionary = corpora.Dictionary(blue_official_top_cut)\n",
    "dictionary.save('ARNOVA Analysis/blue_official_top_cut.dict') \n",
    "blue_official_top_cut_TM = [dictionary.doc2bow(doc) for doc in blue_official_top_cut]\n",
    "corpora.MmCorpus.serialize('ARNOVA Analysis/blue_official_top_cut_during.mm', blue_official_top_cut_TM)\n",
    "\n",
    "dictionary = corpora.Dictionary(blue_official_bottom_cut)\n",
    "dictionary.save('ARNOVA Analysis/blue_official_bottom_cut.dict') \n",
    "blue_official_bottom_cut_TM = [dictionary.doc2bow(doc) for doc in blue_official_bottom_cut]\n",
    "corpora.MmCorpus.serialize('ARNOVA Analysis/blue_official_bottom_cut_during.mm', blue_official_bottom_cut_TM)\n"
   ]
  },
  {
   "cell_type": "code",
   "execution_count": null,
   "metadata": {
    "collapsed": true
   },
   "outputs": [],
   "source": [
    "Lda = gensim.models.ldamodel.LdaModel\n",
    "ldamodel = Lda(yellow_official_top_cra_TM, num_topics=6, id2word = dictionary.load(\"ARNOVA Analysis/yellow_official_top_cra.dict\"), passes=50)"
   ]
  },
  {
   "cell_type": "code",
   "execution_count": 98,
   "metadata": {
    "collapsed": false
   },
   "outputs": [
    {
     "name": "stdout",
     "output_type": "stream",
     "text": [
      "LdaModel(num_terms=19475, num_topics=10, decay=0.5, chunksize=2000)\n"
     ]
    }
   ],
   "source": [
    "print(ldamodel)"
   ]
  },
  {
   "cell_type": "code",
   "execution_count": 64,
   "metadata": {
    "collapsed": true
   },
   "outputs": [],
   "source": [
    "ldamodel.save('ARNOVA Analysis/model.lda')"
   ]
  },
  {
   "cell_type": "code",
   "execution_count": 96,
   "metadata": {
    "collapsed": false
   },
   "outputs": [
    {
     "name": "stdout",
     "output_type": "stream",
     "text": [
      "[(8, '0.068*警方 + 0.064*人士 + 0.042*記者 + 0.033*市民 + 0.026*現場'), (2, '0.037*學生 + 0.019*立場 + 0.015*同學 + 0.015*香港 + 0.013*明白'), (7, '0.079*政府 + 0.032*香港 + 0.030*社會 + 0.027*民主 + 0.024*市民'), (6, '0.062*旺角 + 0.047*公民 + 0.037*抗命 + 0.022*市民 + 0.020*金鐘'), (3, '0.032*政治 + 0.031*警隊 + 0.014*問題 + 0.011*標語 + 0.010*同事')]\n"
     ]
    }
   ],
   "source": [
    "print(ldamodel.print_topics(num_topics=5, num_words=5))"
   ]
  },
  {
   "cell_type": "code",
   "execution_count": 106,
   "metadata": {
    "collapsed": false
   },
   "outputs": [
    {
     "data": {
      "text/html": [
       "\n",
       "<link rel=\"stylesheet\" type=\"text/css\" href=\"https://cdn.rawgit.com/bmabey/pyLDAvis/files/ldavis.v1.0.0.css\">\n",
       "\n",
       "\n",
       "<div id=\"ldavis_el3745354062832407985668264\"></div>\n",
       "<script type=\"text/javascript\">\n",
       "\n",
       "var ldavis_el3745354062832407985668264_data = {\"token.table\": {\"Topic\": [3, 1, 1, 4, 2, 4, 2, 1, 3, 1, 3, 1, 4, 2, 2, 2, 3, 1, 2, 3, 1, 1, 2, 3, 4, 3, 4, 1, 2, 3, 4, 1, 4, 2, 1, 2, 1, 1, 3, 2, 3, 1, 1, 2, 2, 3, 4, 4, 1, 2, 3, 1, 4, 1, 3, 2, 1, 2, 4, 3, 2, 2, 3, 1, 4, 4, 4, 2, 1, 4, 1, 2, 4, 4, 3, 1, 3, 3, 1, 2, 3, 4, 2, 1, 2, 2, 2, 4, 2, 1, 2, 3, 4, 3, 1, 2, 3, 4, 1, 1, 2, 1, 2, 4, 3, 1, 3, 1, 1, 1, 3, 2, 1, 2, 3, 4, 2, 3, 3, 3, 4, 2, 4, 4, 3, 1, 3, 2, 4, 3, 4, 4, 1, 1, 1, 2, 1, 2, 3, 4, 4, 1, 4, 2, 1, 1, 3, 4, 2, 3, 2, 1, 2, 3, 4, 3, 3, 1, 2, 3, 4, 1, 3, 1, 4, 4, 4, 1, 2, 3, 2, 4, 2, 4, 2, 1, 4, 4, 1, 1, 2, 3, 4, 2, 1, 3, 3, 3, 3, 3, 2, 3, 4, 1, 3, 1, 3, 1, 3, 3, 2, 3, 3, 1, 4, 2, 4, 4, 2, 2, 3, 1, 2, 3, 4, 2, 2, 1, 2, 3, 1, 2, 2, 2], \"Term\": [\"\\u4e00\\u822c\", \"\\u4e2d\\u570b\", \"\\u4e2d\\u592e\", \"\\u4e2d\\u5b78\", \"\\u4e2d\\u5b78\\u751f\", \"\\u4e2d\\u5b78\\u751f\", \"\\u4e2d\\u5fc3\", \"\\u4e3b\\u5e2d\", \"\\u4e3b\\u5e2d\", \"\\u4e8b\\u4ef6\", \"\\u4e8b\\u4ef6\", \"\\u4e94\\u6bdb\", \"\\u4ea4\\u4ee3\", \"\\u4ea4\\u754c\", \"\\u4ea4\\u901a\", \"\\u4eba\\u54e1\", \"\\u4eba\\u54e1\", \"\\u4eba\\u58eb\", \"\\u4eba\\u58eb\", \"\\u4eba\\u58eb\", \"\\u4eba\\u6c11\", \"\\u4ee3\\u8868\", \"\\u4ee3\\u8868\", \"\\u4ee3\\u8868\", \"\\u4ee3\\u8868\", \"\\u4fe1\\u5fc3\", \"\\u50ac\\u6dda\", \"\\u50b3\\u5a92\", \"\\u50b3\\u5a92\", \"\\u50b3\\u5a92\", \"\\u50b7\\u8005\", \"\\u5148\\u751f\", \"\\u5148\\u751f\", \"\\u516c\\u5712\", \"\\u516c\\u6c11\", \"\\u516c\\u6c11\", \"\\u516c\\u7fa9\", \"\\u5236\\u5ea6\", \"\\u524d\\u7dda\", \"\\u52aa\\u529b\", \"\\u52aa\\u529b\", \"\\u5317\\u4eac\", \"\\u539f\\u5247\", \"\\u53ec\\u96c6\\u4eba\", \"\\u53f8\\u6a5f\", \"\\u540c\\u4e8b\", \"\\u540c\\u5b78\", \"\\u5468\\u5609\\u6d69\", \"\\u548c\\u5e73\", \"\\u548c\\u5e73\", \"\\u548c\\u5e73\", \"\\u554f\\u984c\", \"\\u5674\\u9727\", \"\\u570b\\u969b\", \"\\u5730\\u5340\", \"\\u5730\\u9ede\", \"\\u5927\\u5b78\", \"\\u5927\\u5b78\", \"\\u5927\\u5b78\", \"\\u5927\\u5bb6\", \"\\u5927\\u91cf\", \"\\u5929\\u6a4b\", \"\\u59d4\\u4efb\", \"\\u59d4\\u54e1\\u6703\", \"\\u5abd\\u5abd\", \"\\u5b69\\u5b50\", \"\\u5b78\\u6821\", \"\\u5b78\\u6c11\", \"\\u5b78\\u751f\", \"\\u5b78\\u751f\", \"\\u5b78\\u806f\", \"\\u5b78\\u806f\", \"\\u5b78\\u9662\", \"\\u5bb6\\u9577\", \"\\u5c08\\u9801\", \"\\u5c0a\\u91cd\", \"\\u5c4b\\u4f01\", \"\\u5de5\\u4f5c\\u8005\", \"\\u5e02\\u6c11\", \"\\u5e02\\u6c11\", \"\\u5e02\\u6c11\", \"\\u5e02\\u6c11\", \"\\u5ee3\\u50b3\", \"\\u5ee3\\u5834\", \"\\u5ee3\\u5834\", \"\\u5f4c\\u6566\", \"\\u5f8b\\u5e2b\", \"\\u5fc3\\u7406\", \"\\u601d\\u6f6e\", \"\\u60c5\\u6cc1\", \"\\u60c5\\u6cc1\", \"\\u60c5\\u6cc1\", \"\\u60c5\\u6cc1\", \"\\u60c5\\u7dd2\", \"\\u6210\\u54e1\", \"\\u6210\\u54e1\", \"\\u6210\\u54e1\", \"\\u6210\\u54e1\", \"\\u6295\\u7968\", \"\\u6297\\u547d\", \"\\u6297\\u547d\", \"\\u6297\\u722d\", \"\\u6297\\u722d\", \"\\u6297\\u722d\", \"\\u62f3\\u6253\", \"\\u653f\\u5e9c\", \"\\u653f\\u5e9c\", \"\\u653f\\u6b0a\", \"\\u653f\\u6cbb\", \"\\u65b0\\u805e\", \"\\u65b0\\u805e\", \"\\u65fa\\u89d2\", \"\\u6642\\u9593\", \"\\u6642\\u9593\", \"\\u6642\\u9593\", \"\\u6642\\u9593\", \"\\u66b4\\u529b\", \"\\u66b4\\u529b\", \"\\u66b4\\u5f92\", \"\\u66fe\\u5049\\u96c4\", \"\\u6700\\u4f4e\", \"\\u670b\\u53cb\", \"\\u6821\\u65b9\", \"\\u6821\\u9577\", \"\\u6848\\u4ef6\", \"\\u6881\\u632f\\u82f1\", \"\\u689d\\u4f8b\", \"\\u6a19\\u8a9e\", \"\\u6a19\\u8a9e\", \"\\u6a5f\\u69cb\", \"\\u6b66\\u529b\", \"\\u6b66\\u5668\", \"\\u6b77\\u53f2\", \"\\u6c11\\u4e3b\", \"\\u6c11\\u610f\", \"\\u6cd5\\u5ead\", \"\\u6cd5\\u6cbb\", \"\\u6d88\\u606f\", \"\\u6d88\\u606f\", \"\\u6dda\\u5f48\", \"\\u6e05\\u5834\", \"\\u6e2f\\u4eba\", \"\\u7236\\u6bcd\", \"\\u7269\\u8cc7\", \"\\u7279\\u5340\", \"\\u7279\\u9996\", \"\\u7279\\u9996\", \"\\u7345\\u5b50\", \"\\u73fe\\u5834\", \"\\u73fe\\u5834\", \"\\u7684\\u58eb\", \"\\u793a\\u5a01\", \"\\u793a\\u5a01\", \"\\u793a\\u5a01\", \"\\u793a\\u5a01\", \"\\u793a\\u5a01\\u8005\", \"\\u793e\\u5de5\", \"\\u793e\\u6703\", \"\\u7981\\u5236\\u4ee4\", \"\\u79e9\\u5e8f\", \"\\u7a81\\u7136\", \"\\u7acb\\u5834\", \"\\u7c21\\u55ae\", \"\\u7cbe\\u795e\", \"\\u7d00\\u5f8b\", \"\\u7d00\\u9304\", \"\\u7d55\\u98df\", \"\\u7d93\\u6fdf\", \"\\u7e3d\\u90e8\", \"\\u7e3d\\u90e8\", \"\\u7fa4\\u773e\", \"\\u7fa4\\u773e\", \"\\u7fa9\\u5de5\", \"\\u8001\\u5e2b\", \"\\u8001\\u8857\", \"\\u8072\\u660e\", \"\\u8072\\u660e\", \"\\u80e1\\u6912\", \"\\u81ea\\u7531\", \"\\u82f1\\u570b\", \"\\u860b\\u679c\", \"\\u860b\\u679c\", \"\\u8840\\u6d41\", \"\\u884c\\u4eba\", \"\\u884c\\u653f\", \"\\u8857\\u9053\", \"\\u8a18\\u8005\", \"\\u8b66\\u529b\", \"\\u8b66\\u52d9\", \"\\u8b66\\u54e1\", \"\\u8b66\\u65b9\", \"\\u8b66\\u65b9\", \"\\u8b66\\u68cd\", \"\\u8b66\\u968a\", \"\\u8b66\\u968a\", \"\\u8b70\\u54e1\", \"\\u8b70\\u54e1\", \"\\u8cac\\u4efb\", \"\\u8cc7\\u6599\", \"\\u8cc7\\u8a0a\", \"\\u8def\\u969c\", \"\\u8eab\\u4efd\", \"\\u8eab\\u9ad4\", \"\\u904e\\u7a0b\", \"\\u904e\\u7a0b\", \"\\u90e8\\u5206\", \"\\u90e8\\u5206\", \"\\u90e8\\u968a\", \"\\u91d1\\u9418\", \"\\u9285\\u947c\\u7063\", \"\\u969c\\u7919\\u7269\", \"\\u96c6\\u6703\", \"\\u96c6\\u6703\", \"\\u96c6\\u6703\", \"\\u96c6\\u6703\", \"\\u96e8\\u5098\", \"\\u9818\\u5340\", \"\\u9818\\u8005\", \"\\u9818\\u8005\", \"\\u9818\\u8005\", \"\\u9999\\u6e2f\", \"\\u9999\\u6e2f\", \"\\u9ec3\\u4e4b\\u92d2\", \"\\u9ec3\\u4f2f\"], \"Freq\": [0.9973390599067444, 0.9995702165564755, 0.9964709691431529, 0.9940290861092279, 0.0074859304596391575, 0.9881428206723688, 0.9975608767490427, 0.7805215129627908, 0.21603720448077246, 0.3261678298596534, 0.6715220026522276, 0.9972320321416352, 0.9958740671984655, 0.996723796461371, 0.9936468847258944, 0.22941689328289838, 0.7669079004028317, 0.11553029968338811, 0.5950601737116976, 0.2896170526309592, 0.9974540358438726, 0.5968908625887147, 0.21861434884936465, 0.08597193494076137, 0.09825363993229871, 0.9880112758953168, 0.9944425313384445, 0.3041656382581443, 0.1650260377783549, 0.5306719646205922, 0.9972484706872885, 0.12345898321025492, 0.8724434813524681, 0.9937325846123151, 0.693995563677297, 0.3059174399081284, 0.9964107410214671, 0.9958260711533888, 0.9937394826223827, 0.046349466192479975, 0.9547990035650875, 0.9949404077936936, 0.9926096144299336, 0.9934700652566923, 0.9912423525561581, 0.9918815661249645, 0.9991377228252019, 0.9848330416293756, 0.6005521964144228, 0.19228817425798225, 0.20622209992885054, 0.9990118224786566, 0.9980112800631692, 0.99748084884382, 0.9941996086635139, 0.9905438465232045, 0.17009809661437444, 0.14105695816801783, 0.6886898545850283, 0.9986176258647778, 0.9958962590351094, 0.9974385188164331, 0.997543948251455, 0.9964349100977568, 0.9961464216273083, 0.9913103084827076, 0.9945889227600919, 0.9991318875881782, 0.3529461644113215, 0.6468187123215955, 0.6591918078134037, 0.33830221080235057, 0.9871543981907794, 0.9920370210226852, 0.994949166569088, 0.995294250810748, 0.9871039664875465, 0.9937121114408394, 0.2560270717439255, 0.3692996550003289, 0.3656790701473845, 0.009310075336142745, 0.9941674196872463, 0.19972248985750485, 0.7988899594300194, 0.9960421647462234, 0.9983464672560057, 0.9849645404222969, 0.9995255400194433, 0.23474907028709963, 0.29131511132013566, 0.4327302139027258, 0.042424530774777036, 0.9871861818777409, 0.22802638906700953, 0.30749013071157344, 0.14165275684465742, 0.3213099118671498, 0.9987445589774487, 0.6599521660866602, 0.33944261001588466, 0.6964366804600891, 0.09453891589955961, 0.20798561497903115, 0.9964125008454214, 0.8806206154613072, 0.11936421165701633, 0.9984161685950164, 0.9995557920310641, 0.12909306032155482, 0.8693610781029708, 0.9992748999827411, 0.25239000422409347, 0.5175269783584947, 0.1121733352107082, 0.11727212317483131, 0.15899851073105817, 0.839270619934826, 0.9924832750764174, 0.9973401527892897, 0.9914656651896097, 0.9977417596339625, 0.9919748259103882, 0.9979591142024993, 0.9966626630859781, 0.9995882080332766, 0.9914650764776886, 0.1578560433589231, 0.8441866666585888, 0.9934395233640461, 0.998956400929365, 0.9891032318267643, 0.9973866403465214, 0.9994482777091036, 0.9962901611784384, 0.9980445688036428, 0.9976742140010294, 0.8567528142290879, 0.142792135704848, 0.998443890641169, 0.9985940611447972, 0.9986560816023211, 0.9957091877858123, 0.9957965762031894, 0.9975610676072727, 0.807566960163619, 0.19103734541504963, 0.988554744136275, 0.7451502409772892, 0.25503230044920605, 0.9915906084788859, 0.26551113996954084, 0.08935471056667241, 0.5769761310876561, 0.06637778499238521, 0.9995656256333815, 0.9908206633867875, 0.9990931889710648, 0.9987333020730251, 0.9891743706032677, 0.993304904253352, 0.9947874054838496, 0.9873442847810276, 0.9923963807760263, 0.9836466752120216, 0.9861816929935426, 0.9986257597970292, 0.9984884613524496, 0.1961656406267248, 0.8064587447987576, 0.7656301598442764, 0.23211412085776706, 0.9944254850651711, 0.9851221783845475, 0.992909776729943, 0.8686123393942323, 0.13029185090913487, 0.9953669111112778, 0.9976068218637243, 0.9952782888402374, 0.20507710497028325, 0.7910116905996639, 0.9950378226890589, 0.9951385364094006, 0.9976630283010872, 0.9909503424530068, 0.9988133818420022, 0.9932452402459873, 0.9948535547280599, 0.9995929477886084, 0.2482662824047298, 0.7515697458252275, 0.9979559216799933, 0.46129153408162094, 0.5372184014925709, 0.5704495716103817, 0.42783717870778626, 0.9988473741761547, 0.9964799552218778, 0.9862304694521701, 0.9960720921976352, 0.9945464090228469, 0.9920988939456399, 0.0768607742120319, 0.915341947434198, 0.44079627879177347, 0.5545501571896505, 0.9973414267970164, 0.9992779631448212, 0.9942429539787451, 0.9975340396682206, 0.16332335558448294, 0.5487664747638626, 0.26349501367629913, 0.023954092152390832, 0.9968177093427726, 0.9978715891001381, 0.17800763944252287, 0.5659730074582778, 0.2556007130456739, 0.9443852866662661, 0.05535272613235292, 0.9992612477090564, 0.996301100940507]}, \"mdsDat\": {\"y\": [0.2704795804344172, -0.216285199050523, -0.04645507973071454, -0.00773930165317969], \"Freq\": [36.45115767504022, 24.80191064774481, 21.768715277153404, 16.97821640006155], \"topics\": [1, 2, 3, 4], \"cluster\": [1, 1, 1, 1], \"x\": [-0.07785186958784415, -0.07467583172594369, -0.15721036967900381, 0.3097380709927916]}, \"R\": 30, \"topic.order\": [2, 4, 3, 1], \"lambda.step\": 0.01, \"plot.opts\": {\"ylab\": \"PC2\", \"xlab\": \"PC1\"}, \"tinfo\": {\"Category\": [\"Default\", \"Default\", \"Default\", \"Default\", \"Default\", \"Default\", \"Default\", \"Default\", \"Default\", \"Default\", \"Default\", \"Default\", \"Default\", \"Default\", \"Default\", \"Default\", \"Default\", \"Default\", \"Default\", \"Default\", \"Default\", \"Default\", \"Default\", \"Default\", \"Default\", \"Default\", \"Default\", \"Default\", \"Default\", \"Default\", \"Topic1\", \"Topic1\", \"Topic1\", \"Topic1\", \"Topic1\", \"Topic1\", \"Topic1\", \"Topic1\", \"Topic1\", \"Topic1\", \"Topic1\", \"Topic1\", \"Topic1\", \"Topic1\", \"Topic1\", \"Topic1\", \"Topic1\", \"Topic1\", \"Topic1\", \"Topic1\", \"Topic1\", \"Topic1\", \"Topic1\", \"Topic1\", \"Topic1\", \"Topic1\", \"Topic1\", \"Topic1\", \"Topic1\", \"Topic1\", \"Topic1\", \"Topic1\", \"Topic1\", \"Topic1\", \"Topic1\", \"Topic1\", \"Topic1\", \"Topic1\", \"Topic1\", \"Topic1\", \"Topic1\", \"Topic1\", \"Topic1\", \"Topic1\", \"Topic2\", \"Topic2\", \"Topic2\", \"Topic2\", \"Topic2\", \"Topic2\", \"Topic2\", \"Topic2\", \"Topic2\", \"Topic2\", \"Topic2\", \"Topic2\", \"Topic2\", \"Topic2\", \"Topic2\", \"Topic2\", \"Topic2\", \"Topic2\", \"Topic2\", \"Topic2\", \"Topic2\", \"Topic2\", \"Topic2\", \"Topic2\", \"Topic2\", \"Topic2\", \"Topic2\", \"Topic2\", \"Topic2\", \"Topic2\", \"Topic2\", \"Topic2\", \"Topic2\", \"Topic2\", \"Topic2\", \"Topic2\", \"Topic2\", \"Topic2\", \"Topic2\", \"Topic2\", \"Topic2\", \"Topic2\", \"Topic2\", \"Topic3\", \"Topic3\", \"Topic3\", \"Topic3\", \"Topic3\", \"Topic3\", \"Topic3\", \"Topic3\", \"Topic3\", \"Topic3\", \"Topic3\", \"Topic3\", \"Topic3\", \"Topic3\", \"Topic3\", \"Topic3\", \"Topic3\", \"Topic3\", \"Topic3\", \"Topic3\", \"Topic3\", \"Topic3\", \"Topic3\", \"Topic3\", \"Topic3\", \"Topic3\", \"Topic3\", \"Topic3\", \"Topic3\", \"Topic3\", \"Topic3\", \"Topic3\", \"Topic3\", \"Topic3\", \"Topic3\", \"Topic3\", \"Topic3\", \"Topic3\", \"Topic3\", \"Topic3\", \"Topic3\", \"Topic3\", \"Topic3\", \"Topic3\", \"Topic3\", \"Topic3\", \"Topic3\", \"Topic3\", \"Topic3\", \"Topic3\", \"Topic3\", \"Topic4\", \"Topic4\", \"Topic4\", \"Topic4\", \"Topic4\", \"Topic4\", \"Topic4\", \"Topic4\", \"Topic4\", \"Topic4\", \"Topic4\", \"Topic4\", \"Topic4\", \"Topic4\", \"Topic4\", \"Topic4\", \"Topic4\", \"Topic4\", \"Topic4\", \"Topic4\", \"Topic4\", \"Topic4\", \"Topic4\", \"Topic4\", \"Topic4\", \"Topic4\", \"Topic4\", \"Topic4\", \"Topic4\", \"Topic4\", \"Topic4\", \"Topic4\", \"Topic4\", \"Topic4\", \"Topic4\", \"Topic4\", \"Topic4\", \"Topic4\", \"Topic4\"], \"Total\": [3540.0, 2215.0, 1250.0, 1026.0, 1337.0, 952.0, 2019.0, 695.0, 792.0, 730.0, 1048.0, 953.0, 656.0, 880.0, 594.0, 591.0, 807.0, 1263.0, 454.0, 495.0, 701.0, 421.0, 328.0, 574.0, 1933.0, 1144.0, 496.0, 387.0, 374.0, 291.0, 1048.951200517444, 953.4235183246107, 880.4857836336481, 807.3324530186281, 574.5677749597035, 479.14668336670223, 446.1917658335922, 369.49657324266013, 276.6434133775409, 281.995169655195, 270.6324604007637, 259.0813872759712, 241.61514349491563, 241.3029416117617, 239.66338053414555, 226.17897930720522, 215.3254727738998, 219.78354810803916, 203.4963137514089, 196.99672308478767, 186.69259945314954, 188.8888636168236, 182.4596434216819, 176.83496362116628, 177.20425019486976, 168.4401948091383, 162.58355448268878, 167.26491943234902, 152.15694346035625, 149.10192068308547, 3540.9276777325817, 2019.0306345129186, 1144.099532557249, 460.6429167491326, 276.30277526033683, 739.4475313168672, 717.6728393856043, 1337.314433738778, 402.00742311866395, 286.987605440516, 1933.3892960158983, 698.0401247576881, 407.1095994770458, 317.3296384303022, 1250.907032711008, 656.569976545869, 594.2819630086143, 591.4270321143356, 454.8895051292252, 421.8979722427511, 387.49083383594177, 374.19078383542006, 355.2624509495252, 309.6993756313874, 280.10020779162875, 229.5599249504346, 214.54956467285197, 203.16965706585069, 173.6874262186258, 173.64228528573162, 170.8304861887711, 141.7904127736221, 139.45688915373165, 128.52744333432372, 128.21200274471147, 126.06008864056486, 124.08670763796034, 117.83547986135129, 117.49387655669796, 117.76902404177582, 114.72888583699212, 106.66853602405901, 105.61601388328718, 103.98328187240637, 701.8718793059346, 385.53494929357663, 1263.7377415285375, 210.0956040184884, 288.6511158924954, 1933.3892960158983, 438.18344113925247, 459.21172591389995, 2215.3632570345435, 1144.099532557249, 392.2500825829034, 739.4475313168672, 3540.9276777325817, 1026.445861771075, 952.3876715077894, 792.9409180916269, 730.0091457615765, 184.00347971674805, 166.58639155770894, 163.0205932569949, 136.7035372730564, 130.34670231257138, 121.99037075839308, 115.8709702096949, 110.3960457206918, 109.00055276485483, 111.88400740831995, 102.25113407663964, 95.601129246834, 97.83501436541304, 98.24226151981215, 92.18119304193218, 91.6009458651798, 91.9959136673768, 92.53674935929021, 85.2267833648748, 90.45688264692919, 89.8127748557901, 86.03140680046859, 74.96677403021417, 80.26788096214528, 73.00524799238302, 75.96134515189242, 74.5032515652158, 495.76638620684895, 2215.3632570345435, 496.85999973689337, 107.87610755291138, 305.1213840372324, 469.0836618247553, 204.8010186514288, 698.0401247576881, 1933.3892960158983, 391.69731263227135, 1263.7377415285375, 309.04214078324827, 137.63878278447928, 353.56902542144456, 350.6006664802975, 701.8718793059346, 2019.0306345129186, 717.6728393856043, 459.21172591389995, 438.18344113925247, 695.978503220063, 328.6718309640706, 291.2511392094743, 264.3632986732267, 267.27893204508257, 235.0891891099239, 197.3925585165038, 191.06182007750047, 184.09924071365776, 160.8704826070078, 148.2306631221501, 140.94363110512907, 109.22291148881921, 94.76046926264604, 96.09988780439659, 93.40076514389389, 90.34816372976142, 87.24004353703438, 86.94744616410514, 81.21591846448538, 83.34387121204063, 77.67497154130844, 78.3889800180735, 77.61807106817561, 71.16376414825145, 69.59393796738722, 75.0368826817033, 65.98166341822721, 68.0318360248663, 69.03801833398536, 133.5839285966601, 68.88486757960854, 143.11591462317125, 1337.314433738778, 145.70237230451832, 121.49784171196745, 241.03738264014896, 289.4401839631147, 140.65454492933233], \"Freq\": [3540.0, 2215.0, 1250.0, 1026.0, 1337.0, 952.0, 2019.0, 695.0, 792.0, 730.0, 1048.0, 953.0, 656.0, 880.0, 594.0, 591.0, 807.0, 1263.0, 454.0, 495.0, 701.0, 421.0, 328.0, 574.0, 1933.0, 1144.0, 496.0, 387.0, 374.0, 291.0, 1048.2575321256486, 952.7304040525352, 879.8005433006092, 806.6492871287747, 573.8762173974586, 478.45396627119993, 445.51508365742893, 368.8189530605189, 275.9657333993523, 281.27369046018515, 269.9319627674028, 258.40616770519273, 240.92587084240233, 240.60438537524053, 238.96921784635606, 225.46908902658993, 214.64798094487693, 219.08574710742357, 202.81874520730705, 196.32022110397983, 186.0138645391008, 188.17239419085567, 181.76419647864364, 176.15771564798249, 176.50950616032804, 167.75005819812856, 161.90656797068576, 166.563839205965, 151.4563264336776, 148.40874822122876, 3344.231935093474, 1777.8171662740128, 793.5977674258667, 371.6827924588799, 240.14444688985978, 487.8387471644007, 431.040920520915, 472.1466377939259, 265.19287373427466, 224.43893837115434, 495.0040288034931, 322.4064199998302, 242.97100723077637, 221.16768120468754, 1250.2236571015198, 655.8853006293531, 593.5949841047706, 590.7307851884677, 454.20589730358586, 421.20914781240646, 386.8055577425832, 373.45956663800894, 354.5639242519891, 308.9982888001134, 279.4202686165548, 228.88208229686867, 213.88090615380324, 202.49744425830986, 173.01943302950207, 172.9693510855199, 170.14409212106656, 141.10470952102975, 138.78189262842199, 127.83821452323672, 127.52158791272882, 125.36906723690065, 123.3925412988572, 117.16673566852612, 116.81397171010988, 117.07603755764231, 114.02307547435666, 105.98527285309574, 104.92736604411803, 103.3028429804315, 522.5305146522419, 307.9113233250262, 751.8012451275468, 180.1001615508115, 220.72702250491085, 714.2371870545284, 247.8239596790593, 251.75806803217375, 550.2886219780942, 350.0349482475951, 203.0820254070555, 251.14770950804396, 196.23465165898227, 1025.7476374827613, 951.6941913300342, 792.2410107836641, 729.2980818747491, 183.28753895714968, 165.88127016333962, 162.32578833476705, 135.96057066555827, 129.6116514770981, 121.28472561357162, 115.16903336686603, 109.71263634777186, 108.26927758375732, 111.10860143612636, 101.51377299154082, 94.91095684430115, 97.1272848873488, 97.52078808858393, 91.48275049741223, 90.90076078803128, 91.28305566777136, 91.80872790303587, 84.52203730310397, 89.70843936956281, 89.0480395628637, 85.29525460767945, 74.26146249632956, 79.50911229797684, 72.31015888452318, 75.23289660824891, 73.78589741446584, 431.3592775980466, 1664.6069313888763, 417.149420674596, 102.5182175359642, 234.45870240133635, 315.3682830009377, 161.87085848390774, 375.1456618186577, 706.6048263328565, 226.06896604428664, 365.7836877676361, 164.05605007618746, 110.6667382106629, 153.2074217802535, 150.45545256777444, 178.88140156200336, 240.7391991861791, 148.00475920847995, 121.2481147035755, 112.39848374402283, 695.1955558202094, 327.967615799806, 290.5744209982257, 263.66332537003353, 266.57023149533364, 234.41468300264688, 196.71893169322828, 190.3738752725303, 183.42901103013403, 160.18462639561326, 147.538006581608, 140.2281332588953, 108.55942259386754, 94.09962408633365, 95.40755758373673, 92.72128226871243, 89.66757653728456, 86.56148700262072, 86.25432297729402, 80.53243632404869, 82.61641412098878, 76.99608372113086, 77.70089154858621, 76.88825747352803, 70.47891358214741, 68.91039364954482, 74.29419407875184, 65.31141585749398, 67.34043970021112, 68.33220046430225, 132.04349893832358, 68.17491021667679, 131.19295701244596, 864.7128317422786, 122.59846685747532, 105.99776809126406, 165.86606566606622, 93.3236913400774, 78.08873188716736], \"loglift\": [30.0, 29.0, 28.0, 27.0, 26.0, 25.0, 24.0, 23.0, 22.0, 21.0, 20.0, 19.0, 18.0, 17.0, 16.0, 15.0, 14.0, 13.0, 12.0, 11.0, 10.0, 9.0, 8.0, 7.0, 6.0, 5.0, 4.0, 3.0, 2.0, 1.0, 1.0085, 1.0085, 1.0084, 1.0084, 1.008, 1.0078, 1.0077, 1.0074, 1.0067, 1.0066, 1.0066, 1.0066, 1.0063, 1.0063, 1.0063, 1.0061, 1.006, 1.006, 1.0059, 1.0058, 1.0056, 1.0054, 1.0054, 1.0054, 1.0053, 1.0051, 1.005, 1.005, 1.0046, 1.0045, 0.952, 0.882, 0.6434, 0.7946, 0.8689, 0.5933, 0.4994, -0.0319, 0.5932, 0.7634, -0.3533, 0.2367, 0.4931, 0.6482, 1.3937, 1.3932, 1.3931, 1.3931, 1.3927, 1.3926, 1.3925, 1.3923, 1.3923, 1.392, 1.3918, 1.3913, 1.3911, 1.3909, 1.3904, 1.3904, 1.3902, 1.3894, 1.3894, 1.3889, 1.3888, 1.3888, 1.3886, 1.3886, 1.3884, 1.3883, 1.3881, 1.3878, 1.3877, 1.3877, 1.0992, 1.1694, 0.8749, 1.2402, 1.126, 0.3984, 0.8243, 0.7932, 0.0015, 0.2099, 0.736, 0.3144, -1.4986, 1.524, 1.524, 1.5238, 1.5237, 1.5208, 1.5205, 1.5204, 1.5192, 1.519, 1.5189, 1.5186, 1.5185, 1.518, 1.5177, 1.5175, 1.5175, 1.5174, 1.5173, 1.5171, 1.517, 1.5169, 1.5168, 1.5164, 1.5164, 1.5161, 1.5161, 1.5152, 1.5152, 1.5151, 1.5151, 1.515, 1.3855, 1.2389, 1.3498, 1.4738, 1.2613, 1.1277, 1.2895, 0.9037, 0.5181, 0.975, 0.2849, 0.8914, 1.3066, 0.6884, 0.6787, 0.1577, -0.602, -0.0541, 0.193, 0.1641, 1.7721, 1.7711, 1.7709, 1.7706, 1.7706, 1.7704, 1.7698, 1.7696, 1.7696, 1.769, 1.7686, 1.7681, 1.7671, 1.7662, 1.766, 1.7659, 1.7657, 1.7654, 1.7652, 1.7648, 1.7645, 1.7645, 1.7644, 1.7638, 1.7636, 1.7634, 1.7633, 1.763, 1.763, 1.763, 1.7616, 1.7629, 1.6863, 1.3372, 1.6006, 1.6368, 1.3995, 0.6414, 1.1848], \"logprob\": [30.0, 29.0, 28.0, 27.0, 26.0, 25.0, 24.0, 23.0, 22.0, 21.0, 20.0, 19.0, 18.0, 17.0, 16.0, 15.0, 14.0, 13.0, 12.0, 11.0, 10.0, 9.0, 8.0, 7.0, 6.0, 5.0, 4.0, 3.0, 2.0, 1.0, -4.0574, -4.1529, -4.2326, -4.3194, -4.6599, -4.8417, -4.913, -5.102, -5.392, -5.3729, -5.4141, -5.4577, -5.5278, -5.5291, -5.5359, -5.5941, -5.6433, -5.6228, -5.7, -5.7325, -5.7864, -5.7749, -5.8096, -5.8409, -5.8389, -5.8898, -5.9252, -5.8969, -5.992, -6.0123, -2.8973, -3.5291, -4.3357, -5.0942, -5.531, -4.8223, -4.9461, -4.855, -5.4318, -5.5987, -4.8077, -5.2365, -5.5193, -5.6133, -3.4961, -4.1412, -4.241, -4.2459, -4.5087, -4.5841, -4.6693, -4.7044, -4.7563, -4.8939, -4.9945, -5.194, -5.2618, -5.3165, -5.4738, -5.4741, -5.4906, -5.6777, -5.6943, -5.7764, -5.7789, -5.796, -5.8118, -5.8636, -5.8666, -5.8644, -5.8908, -5.9639, -5.9739, -5.9896, -4.3685, -4.8974, -4.0047, -5.4337, -5.2303, -4.056, -5.1145, -5.0987, -4.3168, -4.7692, -5.3136, -5.1012, -5.3479, -3.5636, -3.6385, -3.8219, -3.9047, -5.2857, -5.3855, -5.4072, -5.5844, -5.6322, -5.6986, -5.7504, -5.7989, -5.8121, -5.7863, -5.8766, -5.9438, -5.9207, -5.9167, -5.9806, -5.987, -5.9828, -5.9771, -6.0598, -6.0002, -6.0076, -6.0506, -6.1892, -6.1209, -6.2158, -6.1762, -6.1956, -4.4298, -3.0794, -4.4633, -5.8667, -5.0395, -4.743, -5.41, -4.5695, -3.9363, -5.0759, -4.5947, -5.3966, -5.7902, -5.465, -5.4831, -5.31, -5.0131, -5.4995, -5.6989, -5.7747, -3.704, -4.4553, -4.5764, -4.6736, -4.6626, -4.7911, -4.9664, -4.9992, -5.0364, -5.1719, -5.2541, -5.305, -5.5609, -5.7039, -5.6901, -5.7186, -5.7521, -5.7874, -5.7909, -5.8596, -5.834, -5.9045, -5.8954, -5.9059, -5.9929, -6.0154, -5.9402, -6.0691, -6.0385, -6.0238, -5.3651, -6.0261, -5.3716, -3.4858, -5.4393, -5.5848, -5.137, -5.7122, -5.8904], \"Term\": [\"\\u9999\\u6e2f\", \"\\u8b66\\u65b9\", \"\\u65fa\\u89d2\", \"\\u793a\\u5a01\\u8005\", \"\\u5b78\\u751f\", \"\\u8b66\\u54e1\", \"\\u653f\\u5e9c\", \"\\u6e05\\u5834\", \"\\u8a18\\u8005\", \"\\u5927\\u5bb6\", \"\\u793e\\u6703\", \"\\u653f\\u6cbb\", \"\\u5b78\\u6c11\", \"\\u6c11\\u4e3b\", \"\\u601d\\u6f6e\", \"\\u91d1\\u9418\", \"\\u6881\\u632f\\u82f1\", \"\\u4eba\\u58eb\", \"\\u6cd5\\u5ead\", \"\\u65b0\\u805e\", \"\\u73fe\\u5834\", \"\\u9818\\u5340\", \"\\u8b66\\u68cd\", \"\\u554f\\u984c\", \"\\u5e02\\u6c11\", \"\\u516c\\u6c11\", \"\\u66b4\\u529b\", \"\\u7981\\u5236\\u4ee4\", \"\\u96e8\\u5098\", \"\\u540c\\u5b78\", \"\\u793e\\u6703\", \"\\u653f\\u6cbb\", \"\\u6c11\\u4e3b\", \"\\u6881\\u632f\\u82f1\", \"\\u554f\\u984c\", \"\\u81ea\\u7531\", \"\\u4e2d\\u570b\", \"\\u6e2f\\u4eba\", \"\\u6cd5\\u6cbb\", \"\\u4e2d\\u592e\", \"\\u884c\\u653f\", \"\\u5236\\u5ea6\", \"\\u4eba\\u6c11\", \"\\u6295\\u7968\", \"\\u4e94\\u6bdb\", \"\\u7acb\\u5834\", \"\\u7d93\\u6fdf\", \"\\u59d4\\u54e1\\u6703\", \"\\u7279\\u5340\", \"\\u5317\\u4eac\", \"\\u6c11\\u610f\", \"\\u5c0a\\u91cd\", \"\\u570b\\u969b\", \"\\u82f1\\u570b\", \"\\u8cac\\u4efb\", \"\\u6b77\\u53f2\", \"\\u516c\\u7fa9\", \"\\u653f\\u6b0a\", \"\\u7cbe\\u795e\", \"\\u539f\\u5247\", \"\\u9999\\u6e2f\", \"\\u653f\\u5e9c\", \"\\u516c\\u6c11\", \"\\u7279\\u9996\", \"\\u8072\\u660e\", \"\\u6297\\u547d\", \"\\u548c\\u5e73\", \"\\u5b78\\u751f\", \"\\u5b78\\u806f\", \"\\u4e3b\\u5e2d\", \"\\u5e02\\u6c11\", \"\\u8b66\\u968a\", \"\\u4ee3\\u8868\", \"\\u6297\\u722d\", \"\\u65fa\\u89d2\", \"\\u5b78\\u6c11\", \"\\u601d\\u6f6e\", \"\\u91d1\\u9418\", \"\\u6cd5\\u5ead\", \"\\u9818\\u5340\", \"\\u7981\\u5236\\u4ee4\", \"\\u96e8\\u5098\", \"\\u9ec3\\u4e4b\\u92d2\", \"\\u670b\\u53cb\", \"\\u8def\\u969c\", \"\\u4e2d\\u5fc3\", \"\\u5929\\u6a4b\", \"\\u9285\\u947c\\u7063\", \"\\u5f4c\\u6566\", \"\\u9ec3\\u4f2f\", \"\\u884c\\u4eba\", \"\\u7fa9\\u5de5\", \"\\u4ea4\\u754c\", \"\\u5927\\u91cf\", \"\\u5f8b\\u5e2b\", \"\\u7684\\u58eb\", \"\\u53f8\\u6a5f\", \"\\u8001\\u8857\", \"\\u7269\\u8cc7\", \"\\u53ec\\u96c6\\u4eba\", \"\\u4ea4\\u901a\", \"\\u516c\\u5712\", \"\\u5ee3\\u50b3\", \"\\u5730\\u9ede\", \"\\u73fe\\u5834\", \"\\u5ee3\\u5834\", \"\\u4eba\\u58eb\", \"\\u6d88\\u606f\", \"\\u7fa4\\u773e\", \"\\u5e02\\u6c11\", \"\\u9818\\u8005\", \"\\u96c6\\u6703\", \"\\u8b66\\u65b9\", \"\\u516c\\u6c11\", \"\\u6642\\u9593\", \"\\u6297\\u547d\", \"\\u9999\\u6e2f\", \"\\u793a\\u5a01\\u8005\", \"\\u8b66\\u54e1\", \"\\u8a18\\u8005\", \"\\u5927\\u5bb6\", \"\\u8eab\\u4efd\", \"\\u8cc7\\u6599\", \"\\u524d\\u7dda\", \"\\u8b66\\u52d9\", \"\\u66fe\\u5049\\u96c4\", \"\\u540c\\u4e8b\", \"\\u66b4\\u5f92\", \"\\u62f3\\u6253\", \"\\u793e\\u5de5\", \"\\u8eab\\u9ad4\", \"\\u59d4\\u4efb\", \"\\u5de5\\u4f5c\\u8005\", \"\\u689d\\u4f8b\", \"\\u969c\\u7919\\u7269\", \"\\u60c5\\u7dd2\", \"\\u6a5f\\u69cb\", \"\\u79e9\\u5e8f\", \"\\u5730\\u5340\", \"\\u4e00\\u822c\", \"\\u5c08\\u9801\", \"\\u8857\\u9053\", \"\\u4fe1\\u5fc3\", \"\\u5c4b\\u4f01\", \"\\u6848\\u4ef6\", \"\\u8cc7\\u8a0a\", \"\\u7c21\\u55ae\", \"\\u8b66\\u529b\", \"\\u65b0\\u805e\", \"\\u8b66\\u65b9\", \"\\u66b4\\u529b\", \"\\u52aa\\u529b\", \"\\u4eba\\u54e1\", \"\\u4e8b\\u4ef6\", \"\\u860b\\u679c\", \"\\u8b66\\u968a\", \"\\u5e02\\u6c11\", \"\\u793a\\u5a01\", \"\\u4eba\\u58eb\", \"\\u50b3\\u5a92\", \"\\u7e3d\\u90e8\", \"\\u60c5\\u6cc1\", \"\\u8b70\\u54e1\", \"\\u73fe\\u5834\", \"\\u653f\\u5e9c\", \"\\u548c\\u5e73\", \"\\u96c6\\u6703\", \"\\u9818\\u8005\", \"\\u6e05\\u5834\", \"\\u8b66\\u68cd\", \"\\u540c\\u5b78\", \"\\u7d55\\u98df\", \"\\u6b66\\u529b\", \"\\u80e1\\u6912\", \"\\u5674\\u9727\", \"\\u50ac\\u6dda\", \"\\u4e2d\\u5b78\", \"\\u5b78\\u6821\", \"\\u6dda\\u5f48\", \"\\u7a81\\u7136\", \"\\u6821\\u9577\", \"\\u6821\\u65b9\", \"\\u7345\\u5b50\", \"\\u7236\\u6bcd\", \"\\u5abd\\u5abd\", \"\\u50b7\\u8005\", \"\\u6b66\\u5668\", \"\\u90e8\\u968a\", \"\\u4ea4\\u4ee3\", \"\\u5b69\\u5b50\", \"\\u8840\\u6d41\", \"\\u5bb6\\u9577\", \"\\u7d00\\u5f8b\", \"\\u6700\\u4f4e\", \"\\u7d00\\u9304\", \"\\u8001\\u5e2b\", \"\\u5468\\u5609\\u6d69\", \"\\u5fc3\\u7406\", \"\\u4e2d\\u5b78\\u751f\", \"\\u5b78\\u9662\", \"\\u904e\\u7a0b\", \"\\u5b78\\u751f\", \"\\u6a19\\u8a9e\", \"\\u5148\\u751f\", \"\\u5927\\u5b78\", \"\\u6210\\u54e1\", \"\\u90e8\\u5206\"]}};\n",
       "\n",
       "function LDAvis_load_lib(url, callback){\n",
       "  var s = document.createElement('script');\n",
       "  s.src = url;\n",
       "  s.async = true;\n",
       "  s.onreadystatechange = s.onload = callback;\n",
       "  s.onerror = function(){console.warn(\"failed to load library \" + url);};\n",
       "  document.getElementsByTagName(\"head\")[0].appendChild(s);\n",
       "}\n",
       "\n",
       "if(typeof(LDAvis) !== \"undefined\"){\n",
       "   // already loaded: just create the visualization\n",
       "   !function(LDAvis){\n",
       "       new LDAvis(\"#\" + \"ldavis_el3745354062832407985668264\", ldavis_el3745354062832407985668264_data);\n",
       "   }(LDAvis);\n",
       "}else if(typeof define === \"function\" && define.amd){\n",
       "   // require.js is available: use it to load d3/LDAvis\n",
       "   require.config({paths: {d3: \"https://cdnjs.cloudflare.com/ajax/libs/d3/3.5.5/d3.min\"}});\n",
       "   require([\"d3\"], function(d3){\n",
       "      window.d3 = d3;\n",
       "      LDAvis_load_lib(\"https://cdn.rawgit.com/bmabey/pyLDAvis/files/ldavis.v1.0.0.js\", function(){\n",
       "        new LDAvis(\"#\" + \"ldavis_el3745354062832407985668264\", ldavis_el3745354062832407985668264_data);\n",
       "      });\n",
       "    });\n",
       "}else{\n",
       "    // require.js not available: dynamically load d3 & LDAvis\n",
       "    LDAvis_load_lib(\"https://cdnjs.cloudflare.com/ajax/libs/d3/3.5.5/d3.min.js\", function(){\n",
       "         LDAvis_load_lib(\"https://cdn.rawgit.com/bmabey/pyLDAvis/files/ldavis.v1.0.0.js\", function(){\n",
       "                 new LDAvis(\"#\" + \"ldavis_el3745354062832407985668264\", ldavis_el3745354062832407985668264_data);\n",
       "            })\n",
       "         });\n",
       "}\n",
       "</script>"
      ],
      "text/plain": [
       "PreparedData(topic_coordinates=            Freq  cluster  topics         x         y\n",
       "topic                                                \n",
       "1      36.451158        1       1 -0.077852  0.270480\n",
       "3      24.801911        1       2 -0.074676 -0.216285\n",
       "2      21.768715        1       3 -0.157210 -0.046455\n",
       "0      16.978216        1       4  0.309738 -0.007739, topic_info=      Category         Freq Term        Total  loglift  logprob\n",
       "term                                                           \n",
       "1894   Default  3540.000000   香港  3540.000000  30.0000  30.0000\n",
       "7807   Default  2215.000000   警方  2215.000000  29.0000  29.0000\n",
       "18428  Default  1250.000000   旺角  1250.000000  28.0000  28.0000\n",
       "678    Default  1026.000000  示威者  1026.000000  27.0000  27.0000\n",
       "9480   Default  1337.000000   學生  1337.000000  26.0000  26.0000\n",
       "11941  Default   952.000000   警員   952.000000  25.0000  25.0000\n",
       "2983   Default  2019.000000   政府  2019.000000  24.0000  24.0000\n",
       "5707   Default   695.000000   清場   695.000000  23.0000  23.0000\n",
       "4227   Default   792.000000   記者   792.000000  22.0000  22.0000\n",
       "5257   Default   730.000000   大家   730.000000  21.0000  21.0000\n",
       "1405   Default  1048.000000   社會  1048.000000  20.0000  20.0000\n",
       "14208  Default   953.000000   政治   953.000000  19.0000  19.0000\n",
       "4063   Default   656.000000   學民   656.000000  18.0000  18.0000\n",
       "7407   Default   880.000000   民主   880.000000  17.0000  17.0000\n",
       "8489   Default   594.000000   思潮   594.000000  16.0000  16.0000\n",
       "17285  Default   591.000000   金鐘   591.000000  15.0000  15.0000\n",
       "16528  Default   807.000000  梁振英   807.000000  14.0000  14.0000\n",
       "14887  Default  1263.000000   人士  1263.000000  13.0000  13.0000\n",
       "5229   Default   454.000000   法庭   454.000000  12.0000  12.0000\n",
       "18009  Default   495.000000   新聞   495.000000  11.0000  11.0000\n",
       "14105  Default   701.000000   現場   701.000000  10.0000  10.0000\n",
       "9021   Default   421.000000   領區   421.000000   9.0000   9.0000\n",
       "2513   Default   328.000000   警棍   328.000000   8.0000   8.0000\n",
       "2879   Default   574.000000   問題   574.000000   7.0000   7.0000\n",
       "10545  Default  1933.000000   市民  1933.000000   6.0000   6.0000\n",
       "10477  Default  1144.000000   公民  1144.000000   5.0000   5.0000\n",
       "7738   Default   496.000000   暴力   496.000000   4.0000   4.0000\n",
       "14913  Default   387.000000  禁制令   387.000000   3.0000   3.0000\n",
       "10475  Default   374.000000   雨傘   374.000000   2.0000   2.0000\n",
       "18828  Default   291.000000   同學   291.000000   1.0000   1.0000\n",
       "...        ...          ...  ...          ...      ...      ...\n",
       "8542    Topic4   160.184626   學校   160.870483   1.7690  -5.1719\n",
       "3321    Topic4   147.538007   淚彈   148.230663   1.7686  -5.2541\n",
       "13194   Topic4   140.228133   突然   140.943631   1.7681  -5.3050\n",
       "15010   Topic4   108.559423   校長   109.222911   1.7671  -5.5609\n",
       "11202   Topic4    94.099624   校方    94.760469   1.7662  -5.7039\n",
       "1577    Topic4    95.407558   獅子    96.099888   1.7660  -5.6901\n",
       "8305    Topic4    92.721282   父母    93.400765   1.7659  -5.7186\n",
       "4162    Topic4    89.667577   媽媽    90.348164   1.7657  -5.7521\n",
       "3209    Topic4    86.561487   傷者    87.240044   1.7654  -5.7874\n",
       "3863    Topic4    86.254323   武器    86.947446   1.7652  -5.7909\n",
       "2632    Topic4    80.532436   部隊    81.215918   1.7648  -5.8596\n",
       "15599   Topic4    82.616414   交代    83.343871   1.7645  -5.8340\n",
       "11553   Topic4    76.996084   孩子    77.674972   1.7645  -5.9045\n",
       "4900    Topic4    77.700892   血流    78.388980   1.7644  -5.8954\n",
       "2639    Topic4    76.888257   家長    77.618071   1.7638  -5.9059\n",
       "15404   Topic4    70.478914   紀律    71.163764   1.7636  -5.9929\n",
       "5482    Topic4    68.910394   最低    69.593938   1.7634  -6.0154\n",
       "16492   Topic4    74.294194   紀錄    75.036883   1.7633  -5.9402\n",
       "14357   Topic4    65.311416   老師    65.981663   1.7630  -6.0691\n",
       "9169    Topic4    67.340440  周嘉浩    68.031836   1.7630  -6.0385\n",
       "6192    Topic4    68.332200   心理    69.038018   1.7630  -6.0238\n",
       "8661    Topic4   132.043499  中學生   133.583929   1.7616  -5.3651\n",
       "18304   Topic4    68.174910   學院    68.884868   1.7629  -6.0261\n",
       "5811    Topic4   131.192957   過程   143.115915   1.6863  -5.3716\n",
       "9480    Topic4   864.712832   學生  1337.314434   1.3372  -3.4858\n",
       "10792   Topic4   122.598467   標語   145.702372   1.6006  -5.4393\n",
       "9444    Topic4   105.997768   先生   121.497842   1.6368  -5.5848\n",
       "1740    Topic4   165.866066   大學   241.037383   1.3995  -5.1370\n",
       "7159    Topic4    93.323691   成員   289.440184   0.6414  -5.7122\n",
       "5930    Topic4    78.088732   部分   140.654545   1.1848  -5.8904\n",
       "\n",
       "[207 rows x 6 columns], token_table=       Topic      Freq Term\n",
       "term                       \n",
       "236        3  0.997339   一般\n",
       "15334      1  0.999570   中國\n",
       "7231       1  0.996471   中央\n",
       "12810      4  0.994029   中學\n",
       "8661       2  0.007486  中學生\n",
       "8661       4  0.988143  中學生\n",
       "16159      2  0.997561   中心\n",
       "9290       1  0.780522   主席\n",
       "9290       3  0.216037   主席\n",
       "15997      1  0.326168   事件\n",
       "15997      3  0.671522   事件\n",
       "8432       1  0.997232   五毛\n",
       "15599      4  0.995874   交代\n",
       "3037       2  0.996724   交界\n",
       "14971      2  0.993647   交通\n",
       "13264      2  0.229417   人員\n",
       "13264      3  0.766908   人員\n",
       "14887      1  0.115530   人士\n",
       "14887      2  0.595060   人士\n",
       "14887      3  0.289617   人士\n",
       "14710      1  0.997454   人民\n",
       "4256       1  0.596891   代表\n",
       "4256       2  0.218614   代表\n",
       "4256       3  0.085972   代表\n",
       "4256       4  0.098254   代表\n",
       "2986       3  0.988011   信心\n",
       "2587       4  0.994443   催淚\n",
       "11705      1  0.304166   傳媒\n",
       "11705      2  0.165026   傳媒\n",
       "11705      3  0.530672   傳媒\n",
       "...      ...       ...  ...\n",
       "9224       3  0.537218   警隊\n",
       "10482      1  0.570450   議員\n",
       "10482      3  0.427837   議員\n",
       "17699      1  0.998847   責任\n",
       "14590      3  0.996480   資料\n",
       "17499      3  0.986230   資訊\n",
       "3880       2  0.996072   路障\n",
       "5904       3  0.994546   身份\n",
       "10670      3  0.992099   身體\n",
       "5811       1  0.076861   過程\n",
       "5811       4  0.915342   過程\n",
       "5930       2  0.440796   部分\n",
       "5930       4  0.554550   部分\n",
       "2632       4  0.997341   部隊\n",
       "17285      2  0.999278   金鐘\n",
       "5760       2  0.994243  銅鑼灣\n",
       "10578      3  0.997534  障礙物\n",
       "17628      1  0.163323   集會\n",
       "17628      2  0.548766   集會\n",
       "17628      3  0.263495   集會\n",
       "17628      4  0.023954   集會\n",
       "10475      2  0.996818   雨傘\n",
       "9021       2  0.997872   領區\n",
       "615        1  0.178008   領者\n",
       "615        2  0.565973   領者\n",
       "615        3  0.255601   領者\n",
       "1894       1  0.944385   香港\n",
       "1894       2  0.055353   香港\n",
       "7291       2  0.999261  黃之鋒\n",
       "14359      2  0.996301   黃伯\n",
       "\n",
       "[224 rows x 3 columns], R=30, lambda_step=0.01, plot_opts={'ylab': 'PC2', 'xlab': 'PC1'}, topic_order=[2, 4, 3, 1])"
      ]
     },
     "execution_count": 106,
     "metadata": {},
     "output_type": "execute_result"
    }
   ],
   "source": [
    "import pyLDAvis\n",
    "import pyLDAvis.gensim\n",
    "pyLDAvis.enable_notebook()\n",
    "pyLDAvis.gensim.prepare(ldamodel, yellow_official_top_cra_TM, dictionary=dictionary.load(\"ARNOVA Analysis/yellow_official_top_cra.dict\"))"
   ]
  },
  {
   "cell_type": "code",
   "execution_count": null,
   "metadata": {
    "collapsed": true
   },
   "outputs": [],
   "source": []
  },
  {
   "cell_type": "code",
   "execution_count": null,
   "metadata": {
    "collapsed": true
   },
   "outputs": [],
   "source": []
  },
  {
   "cell_type": "code",
   "execution_count": null,
   "metadata": {
    "collapsed": true
   },
   "outputs": [],
   "source": []
  }
 ],
 "metadata": {
  "kernelspec": {
   "display_name": "Python [Root]",
   "language": "python",
   "name": "Python [Root]"
  },
  "language_info": {
   "codemirror_mode": {
    "name": "ipython",
    "version": 3
   },
   "file_extension": ".py",
   "mimetype": "text/x-python",
   "name": "python",
   "nbconvert_exporter": "python",
   "pygments_lexer": "ipython3",
   "version": "3.5.2"
  }
 },
 "nbformat": 4,
 "nbformat_minor": 0
}
